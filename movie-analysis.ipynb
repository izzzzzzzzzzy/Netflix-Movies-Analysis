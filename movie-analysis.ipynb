{
 "cells": [
  {
   "cell_type": "code",
   "execution_count": 87,
   "metadata": {},
   "outputs": [
    {
     "name": "stdout",
     "output_type": "stream",
     "text": [
      "                    title         year certificate duration  \\\n",
      "0               Cobra Kai     (2018– )       TV-14   30 min   \n",
      "1               The Crown     (2016– )       TV-MA   58 min   \n",
      "2        Better Call Saul  (2015–2022)       TV-MA   46 min   \n",
      "3           Devil in Ohio       (2022)       TV-MA  356 min   \n",
      "4  Cyberpunk: Edgerunners     (2022– )       TV-MA   24 min   \n",
      "\n",
      "                          genre  rating  \\\n",
      "0         Action, Comedy, Drama     8.5   \n",
      "1     Biography, Drama, History     8.7   \n",
      "2                  Crime, Drama     8.9   \n",
      "3        Drama, Horror, Mystery     5.9   \n",
      "4  Animation, Action, Adventure     8.6   \n",
      "\n",
      "                                         description  \\\n",
      "0  Decades after their 1984 All Valley Karate Tou...   \n",
      "1  Follows the political rivalries and romance of...   \n",
      "2  The trials and tribulations of criminal lawyer...   \n",
      "3  When a psychiatrist shelters a mysterious cult...   \n",
      "4  A Street Kid trying to survive in a technology...   \n",
      "\n",
      "                                               stars    votes  \\\n",
      "0  ['Ralph Macchio, ', 'William Zabka, ', 'Courtn...  177,031   \n",
      "1  ['Claire Foy, ', 'Olivia Colman, ', 'Imelda St...  199,885   \n",
      "2  ['Bob Odenkirk, ', 'Rhea Seehorn, ', 'Jonathan...  501,384   \n",
      "3  ['Emily Deschanel, ', 'Sam Jaeger, ', 'Gerardo...    9,773   \n",
      "4  ['Zach Aguilar, ', 'Kenichiro Ohashi, ', 'Emi ...   15,413   \n",
      "\n",
      "                                              actors  \n",
      "0  [Ralph Macchio, William Zabka, Courtney Hengge...  \n",
      "1  [Claire Foy, Olivia Colman, Imelda Staunton, M...  \n",
      "2  [Bob Odenkirk, Rhea Seehorn, Jonathan Banks, P...  \n",
      "3  [Emily Deschanel, Sam Jaeger, Gerardo Celasco,...  \n",
      "4  [Zach Aguilar, Kenichiro Ohashi, Emi Lo, Aoi Y...  \n",
      "20099\n"
     ]
    }
   ],
   "source": [
    "import pandas as pd\n",
    "import re\n",
    "\n",
    "dataset = pd.read_csv('./n_movies.csv')\n",
    "\n",
    "def format_stars(stars):\n",
    "    stars = stars.split(', \\'')\n",
    "    stars = [star for star in stars if star != '' and star != '    Stars:\\'']\n",
    "    stars[0] = stars[0][2:]\n",
    "    stars[-1] = stars[-1][:-2]\n",
    "\n",
    "    dir_index = -1\n",
    "    for j in range(len(stars)):\n",
    "        stars[j] = stars[j].replace(', \"', '')\n",
    "        if 'Stars:\\'' in stars[j]:\n",
    "            stars[j] = stars[j].split(':\\'')[1]\n",
    "        \n",
    "        if '|' in stars[j]:\n",
    "            dir_index = j\n",
    "    \n",
    "    stars = stars[dir_index + 1:]\n",
    "\n",
    "    return stars\n",
    "\n",
    "dataset['actors'] = dataset['stars'].apply(format_stars)\n",
    "\n",
    "unique_actors = []\n",
    "\n",
    "for actors in dataset['actors']:\n",
    "    for actor in actors:\n",
    "        if actor not in unique_actors:\n",
    "            unique_actors.append(actor)\n",
    "\n",
    "\n",
    "print(dataset.head())\n",
    "print(len(unique_actors))\n"
   ]
  },
  {
   "cell_type": "code",
   "execution_count": 85,
   "metadata": {},
   "outputs": [
    {
     "name": "stdout",
     "output_type": "stream",
     "text": [
      "9957\n"
     ]
    }
   ],
   "source": []
  },
  {
   "cell_type": "code",
   "execution_count": null,
   "metadata": {},
   "outputs": [],
   "source": []
  }
 ],
 "metadata": {
  "kernelspec": {
   "display_name": "bigdata",
   "language": "python",
   "name": "python3"
  },
  "language_info": {
   "codemirror_mode": {
    "name": "ipython",
    "version": 3
   },
   "file_extension": ".py",
   "mimetype": "text/x-python",
   "name": "python",
   "nbconvert_exporter": "python",
   "pygments_lexer": "ipython3",
   "version": "3.11.7"
  }
 },
 "nbformat": 4,
 "nbformat_minor": 2
}
