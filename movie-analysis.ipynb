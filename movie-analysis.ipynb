{
 "cells": [
  {
   "cell_type": "code",
   "execution_count": null,
   "metadata": {},
   "outputs": [],
   "source": [
    "import pandas as pd\n",
    "import numpy as np"
   ]
  },
  {
   "cell_type": "code",
   "execution_count": 89,
   "metadata": {},
   "outputs": [],
   "source": [
    "def format_stars(stars):\n",
    "    stars = stars.split(', \\'')\n",
    "    stars = [star for star in stars if star != '' and star != '    Stars:\\'']\n",
    "    stars[0] = stars[0][2:]\n",
    "    stars[-1] = stars[-1][:-2]\n",
    "\n",
    "    dir_index = -1\n",
    "    for j in range(len(stars)):\n",
    "        stars[j] = stars[j].replace(', \"', '')\n",
    "        if 'Stars:\\'' in stars[j]:\n",
    "            stars[j] = stars[j].split(':\\'')[1]\n",
    "        \n",
    "        if '|' in stars[j]:\n",
    "            dir_index = j\n",
    "    \n",
    "    stars = stars[dir_index + 1:]\n",
    "\n",
    "    return stars\n",
    "\n",
    "def format_genres(genre):\n",
    "    return genre.split(', ')\n",
    "\n",
    "def format_years(year):\n",
    "    if len(year) < 5 or year[1] not in ['1', '2']:\n",
    "        return -1\n",
    "    return int(year[1:5])\n",
    "\n",
    "def set_is_tv(certificate):\n",
    "    tv_certs = ['TV-Y', 'TV-Y7', 'TV-Y7-FV','TV-G','TV-PG','TV-14', 'TV-MA']\n",
    "\n",
    "    if certificate in tv_certs:\n",
    "        return True\n",
    "    return False\n",
    "\n",
    "def get_cleaned_dataframe():\n",
    "    df = pd.read_csv('./n_movies.csv')\n",
    "    df = df.drop(columns=['description', 'votes', 'duration'])\n",
    "    df = df.dropna(subset=['stars', 'title'])\n",
    "    df = df.drop_duplicates(subset=['title'])\n",
    "    df = df.fillna('')\n",
    "\n",
    "    df['stars'] = df['stars'].apply(format_stars)\n",
    "    df['genre'] = df['genre'].apply(format_genres)\n",
    "    df['year'] = df['year'].apply(format_years)\n",
    "    df['is_tv'] = df['certificate'].apply(set_is_tv)\n",
    "\n",
    "    return df\n"
   ]
  },
  {
   "cell_type": "code",
   "execution_count": 96,
   "metadata": {},
   "outputs": [
    {
     "name": "stdout",
     "output_type": "stream",
     "text": [
      "(7912, 7)\n"
     ]
    }
   ],
   "source": [
    "\n",
    "df = get_cleaned_dataframe()"
   ]
  },
  {
   "cell_type": "code",
   "execution_count": null,
   "metadata": {},
   "outputs": [],
   "source": []
  }
 ],
 "metadata": {
  "kernelspec": {
   "display_name": "bigdata",
   "language": "python",
   "name": "python3"
  },
  "language_info": {
   "codemirror_mode": {
    "name": "ipython",
    "version": 3
   },
   "file_extension": ".py",
   "mimetype": "text/x-python",
   "name": "python",
   "nbconvert_exporter": "python",
   "pygments_lexer": "ipython3",
   "version": "3.11.7"
  }
 },
 "nbformat": 4,
 "nbformat_minor": 2
}
