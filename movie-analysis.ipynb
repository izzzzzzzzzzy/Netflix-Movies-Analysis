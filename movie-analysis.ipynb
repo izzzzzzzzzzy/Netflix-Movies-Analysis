{
 "cells": [
  {
   "cell_type": "code",
   "execution_count": 2,
   "metadata": {},
   "outputs": [],
   "source": [
    "import pandas as pd\n",
    "import numpy as np"
   ]
  },
  {
   "cell_type": "code",
   "execution_count": 3,
   "metadata": {},
   "outputs": [],
   "source": [
    "def format_stars(stars):\n",
    "    stars = stars.split(', \\'')\n",
    "    stars = [star for star in stars if star != '' and star != '    Stars:\\'']\n",
    "    stars[0] = stars[0][2:]\n",
    "    stars[-1] = stars[-1][:-2]\n",
    "\n",
    "    dir_index = -1\n",
    "    for j in range(len(stars)):\n",
    "        stars[j] = stars[j].replace(', \"', '')\n",
    "        if 'Stars:\\'' in stars[j]:\n",
    "            stars[j] = stars[j].split(':\\'')[1]\n",
    "        \n",
    "        if '|' in stars[j]:\n",
    "            dir_index = j\n",
    "    \n",
    "    stars = stars[dir_index + 1:]\n",
    "\n",
    "    return stars\n",
    "\n",
    "def format_genres(genre):\n",
    "    return genre.split(', ')\n",
    "\n",
    "def format_years(year):\n",
    "    if len(year) < 5 or year[1] not in ['1', '2']:\n",
    "        return -1\n",
    "    return int(year[1:5])\n",
    "\n",
    "def set_is_tv(certificate):\n",
    "    tv_certs = ['TV-Y', 'TV-Y7', 'TV-Y7-FV','TV-G','TV-PG','TV-14', 'TV-MA']\n",
    "\n",
    "    if certificate in tv_certs:\n",
    "        return True\n",
    "    return False\n",
    "\n",
    "def get_cleaned_dataframe():\n",
    "    df = pd.read_csv('./n_movies.csv')\n",
    "    df = df.drop(columns=['description', 'votes', 'duration'])\n",
    "    df = df.dropna(subset=['stars'])\n",
    "    df = df.drop_duplicates(subset=['title'])\n",
    "    df = df.reset_index()\n",
    "    df = df.fillna('')\n",
    "\n",
    "    df['stars'] = df['stars'].apply(format_stars)\n",
    "    df['genre'] = df['genre'].apply(format_genres)\n",
    "    df['year'] = df['year'].apply(format_years)\n",
    "    df['is_tv'] = df['certificate'].apply(set_is_tv)\n",
    "\n",
    "    return df\n"
   ]
  },
  {
   "cell_type": "code",
   "execution_count": 4,
   "metadata": {},
   "outputs": [],
   "source": [
    "df = get_cleaned_dataframe()"
   ]
  },
  {
   "cell_type": "code",
   "execution_count": 5,
   "metadata": {},
   "outputs": [
    {
     "name": "stdout",
     "output_type": "stream",
     "text": [
      "Channels:\n",
      " - defaults\n",
      " - conda-forge\n",
      "Platform: osx-arm64\n",
      "Collecting package metadata (repodata.json): done\n",
      "Solving environment: done\n",
      "\n",
      "# All requested packages already installed.\n",
      "\n",
      "\n",
      "Note: you may need to restart the kernel to use updated packages.\n"
     ]
    }
   ],
   "source": [
    "conda install pyvis"
   ]
  },
  {
   "cell_type": "code",
   "execution_count": 57,
   "metadata": {},
   "outputs": [
    {
     "name": "stderr",
     "output_type": "stream",
     "text": [
      "100%|██████████████████████████████████████| 500/500 [00:00<00:00, 16502.22it/s]\n",
      "  0%|                                                   | 0/500 [00:00<?, ?it/s]\n"
     ]
    },
    {
     "ename": "AttributeError",
     "evalue": "'Network' object has no attribute 'add_weighted_edges_from'",
     "output_type": "error",
     "traceback": [
      "\u001b[0;31m---------------------------------------------------------------------------\u001b[0m",
      "\u001b[0;31mAttributeError\u001b[0m                            Traceback (most recent call last)",
      "Cell \u001b[0;32mIn[57], line 33\u001b[0m\n\u001b[1;32m     31\u001b[0m \u001b[38;5;66;03m# Movie Network\u001b[39;00m\n\u001b[1;32m     32\u001b[0m scale\u001b[38;5;241m=\u001b[39m\u001b[38;5;241m3\u001b[39m\n\u001b[0;32m---> 33\u001b[0m movie_network \u001b[38;5;241m=\u001b[39m create_network(movies, nt_movie, \u001b[38;5;241m500\u001b[39m)\n\u001b[1;32m     34\u001b[0m tv_show_network \u001b[38;5;241m=\u001b[39m create_network(tv_shows, nt_tv_show, \u001b[38;5;241m500\u001b[39m)\n\u001b[1;32m     35\u001b[0m combine_network \u001b[38;5;241m=\u001b[39m create_network(media, nt_combine, \u001b[38;5;241m500\u001b[39m)\n",
      "Cell \u001b[0;32mIn[57], line 20\u001b[0m, in \u001b[0;36mcreate_network\u001b[0;34m(df, network, num_nodes)\u001b[0m\n\u001b[1;32m     18\u001b[0m                 w \u001b[38;5;241m+\u001b[39m\u001b[38;5;241m=\u001b[39m \u001b[38;5;241m5\u001b[39m\n\u001b[1;32m     19\u001b[0m         \u001b[38;5;28;01mif\u001b[39;00m w \u001b[38;5;241m>\u001b[39m \u001b[38;5;241m0\u001b[39m:\n\u001b[0;32m---> 20\u001b[0m             network\u001b[38;5;241m.\u001b[39madd_weighted_edges_from(df\u001b[38;5;241m.\u001b[39mloc[i, \u001b[38;5;124m'\u001b[39m\u001b[38;5;124mtitle\u001b[39m\u001b[38;5;124m'\u001b[39m], df\u001b[38;5;241m.\u001b[39mloc[j, \u001b[38;5;124m'\u001b[39m\u001b[38;5;124mtitle\u001b[39m\u001b[38;5;124m'\u001b[39m], w\u001b[38;5;241m=\u001b[39m\u001b[38;5;124m'\u001b[39m\u001b[38;5;124mweight\u001b[39m\u001b[38;5;124m'\u001b[39m)\n\u001b[1;32m     21\u001b[0m \u001b[38;5;28;01mreturn\u001b[39;00m network\n",
      "\u001b[0;31mAttributeError\u001b[0m: 'Network' object has no attribute 'add_weighted_edges_from'"
     ]
    }
   ],
   "source": [
    "import networkx as nx\n",
    "import matplotlib.pyplot as plt\n",
    "from tqdm import tqdm\n",
    "from pyvis.network import Network\n",
    "\n",
    "# Network Visualization of Movies with shared actors\n",
    "\n",
    "def create_network(df, network, num_nodes):\n",
    "    \n",
    "    for i in tqdm(range(num_nodes)):\n",
    "        network.add_node(df.loc[i,'title'], value=network)\n",
    "    \n",
    "    for i in tqdm(range(num_nodes)):\n",
    "        for j in range(i + 1, num_nodes):\n",
    "            w = 0\n",
    "            for actor in df.loc[i, 'stars']:\n",
    "                if actor in df.loc[j, 'stars']:\n",
    "                    w += 5\n",
    "            if w > 0:\n",
    "                network.add_weighted_edges_from(df.loc[i, 'title'], df.loc[j, 'title'], w='weight')\n",
    "    return network\n",
    "\n",
    "movie_network = nx.Graph()\n",
    "tv_show_network = nx.MultiGraph()\n",
    "combine_network = nx.MultiGraph()\n",
    "\n",
    "media = df.dropna().reset_index(drop=True)\n",
    "movies = df.where(df['is_tv'] == False).dropna().reset_index(drop=True)\n",
    "tv_shows = df.where(df['is_tv'] == True).dropna().reset_index(drop=True)\n",
    "\n",
    "# Movie Network\n",
    "scale=3\n",
    "movie_network = create_network(movies, nt_movie, 500)\n",
    "tv_show_network = create_network(tv_shows, nt_tv_show, 500)\n",
    "combine_network = create_network(media, nt_combine, 500)\n",
    "\n",
    "d_movie = dict(movie_network.degree)\n",
    "d_movie.update((x, scale*y) for x, y in d_movie.items())\n",
    "d_tv_show = dict(tv_show_network.degree)\n",
    "d_tv_show.update((x, scale*y) for x, y in d_tv_show.items())\n",
    "d_combine = dict(combine_network.degree)\n",
    "d_combine.update((x, scale*y) for x, y in d_combine.items())\n",
    "\n",
    "#Setting up size attribute\n",
    "nx.set_node_attributes(movie_network,d_movie,'size')\n",
    "nx.set_node_attributes(tv_show_network,d_tv_show,'size')\n",
    "nx.set_node_attributes(combine_network,d_combine,'size')\n",
    "\n",
    "nt_movie = Network(\"500px\", \"500px\")\n",
    "nt_tv_show = Network(\"800px\", \"800px\")\n",
    "nt_combine = Network(\"800px\", \"800px\")\n",
    "\n",
    "nt_movie.from_nx(movie_network)\n",
    "nt_movie.show_buttons()\n",
    "nt_tv_show.from_nx(tv_show_network)\n",
    "nt_combine.from_nx(combine_network)\n",
    "\n",
    "nt_movie.show(\"nx_movie.html\")\n",
    "nt_tv_show.show(\"nx_tv_show.html\")\n",
    "nt_combine.show(\"nx_combine.html\")"
   ]
  },
  {
   "cell_type": "code",
   "execution_count": null,
   "metadata": {},
   "outputs": [],
   "source": []
  },
  {
   "cell_type": "code",
   "execution_count": null,
   "metadata": {},
   "outputs": [],
   "source": []
  }
 ],
 "metadata": {
  "kernelspec": {
   "display_name": "Python 3 (ipykernel)",
   "language": "python",
   "name": "python3"
  },
  "language_info": {
   "codemirror_mode": {
    "name": "ipython",
    "version": 3
   },
   "file_extension": ".py",
   "mimetype": "text/x-python",
   "name": "python",
   "nbconvert_exporter": "python",
   "pygments_lexer": "ipython3",
   "version": "3.11.7"
  }
 },
 "nbformat": 4,
 "nbformat_minor": 4
}
