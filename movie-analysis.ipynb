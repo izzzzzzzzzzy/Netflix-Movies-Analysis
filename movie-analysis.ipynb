{
 "cells": [
  {
   "cell_type": "code",
   "execution_count": 2,
   "metadata": {},
   "outputs": [],
   "source": [
    "import pandas as pd\n",
    "import numpy as np"
   ]
  },
  {
   "cell_type": "code",
   "execution_count": 3,
   "metadata": {},
   "outputs": [],
   "source": [
    "def format_stars(stars):\n",
    "    stars = stars.split(', \\'')\n",
    "    stars = [star for star in stars if star != '' and star != '    Stars:\\'']\n",
    "    stars[0] = stars[0][2:]\n",
    "    stars[-1] = stars[-1][:-2]\n",
    "\n",
    "    dir_index = -1\n",
    "    for j in range(len(stars)):\n",
    "        stars[j] = stars[j].replace(', \"', '')\n",
    "        if 'Stars:\\'' in stars[j]:\n",
    "            stars[j] = stars[j].split(':\\'')[1]\n",
    "        \n",
    "        if '|' in stars[j]:\n",
    "            dir_index = j\n",
    "    \n",
    "    stars = stars[dir_index + 1:]\n",
    "\n",
    "    return stars\n",
    "\n",
    "def format_genres(genre):\n",
    "    return genre.split(', ')\n",
    "\n",
    "def format_years(year):\n",
    "    if len(year) < 5 or year[1] not in ['1', '2']:\n",
    "        return -1\n",
    "    return int(year[1:5])\n",
    "\n",
    "def set_is_tv(certificate):\n",
    "    tv_certs = ['TV-Y', 'TV-Y7', 'TV-Y7-FV','TV-G','TV-PG','TV-14', 'TV-MA']\n",
    "\n",
    "    if certificate in tv_certs:\n",
    "        return True\n",
    "    return False\n",
    "\n",
    "def get_cleaned_dataframe():\n",
    "    df = pd.read_csv('./n_movies.csv')\n",
    "    df = df.drop(columns=['description', 'votes', 'duration'])\n",
    "    df = df.dropna(subset=['stars'])\n",
    "    df = df.drop_duplicates(subset=['title'])\n",
    "    df = df.reset_index()\n",
    "    df = df.fillna('')\n",
    "\n",
    "    df['stars'] = df['stars'].apply(format_stars)\n",
    "    df['genre'] = df['genre'].apply(format_genres)\n",
    "    df['year'] = df['year'].apply(format_years)\n",
    "    df['is_tv'] = df['certificate'].apply(set_is_tv)\n",
    "\n",
    "    return df\n"
   ]
  },
  {
   "cell_type": "code",
   "execution_count": 4,
   "metadata": {},
   "outputs": [],
   "source": [
    "df = get_cleaned_dataframe()"
   ]
  },
  {
   "cell_type": "code",
   "execution_count": 5,
   "metadata": {},
   "outputs": [
    {
     "name": "stdout",
     "output_type": "stream",
     "text": [
      "Channels:\n",
      " - defaults\n",
      " - conda-forge\n",
      "Platform: osx-arm64\n",
      "Collecting package metadata (repodata.json): done\n",
      "Solving environment: done\n",
      "\n",
      "# All requested packages already installed.\n",
      "\n",
      "\n",
      "Note: you may need to restart the kernel to use updated packages.\n"
     ]
    }
   ],
   "source": [
    "conda install pyvis"
   ]
  },
  {
   "cell_type": "code",
   "execution_count": 11,
   "metadata": {},
   "outputs": [
    {
     "name": "stderr",
     "output_type": "stream",
     "text": [
      "100%|████████████████████████████████████| 2000/2000 [00:00<00:00, 86337.19it/s]\n",
      "100%|███████████████████████████████████████| 2000/2000 [00:34<00:00, 58.80it/s]\n",
      "100%|██████████████████████████████████████| 200/200 [00:00<00:00, 49592.72it/s]\n",
      "100%|████████████████████████████████████████| 200/200 [00:00<00:00, 576.00it/s]\n"
     ]
    },
    {
     "data": {
      "text/plain": [
       "'\\n# smaller nodes and fonts\\nplt.figure(1, figsize=(15,15))\\nnx.draw_random(movie_network, node_size=50, with_labels=True)\\nplt.figure(2, figsize=(15,15))\\nnx.draw_random(tv_show_network, node_size=50, with_labels=True) \\nplt.show()\\n'"
      ]
     },
     "execution_count": 11,
     "metadata": {},
     "output_type": "execute_result"
    }
   ],
   "source": [
    "import networkx as nx\n",
    "import matplotlib.pyplot as plt\n",
    "from tqdm import tqdm\n",
    "from pyvis.network import Network\n",
    "\n",
    "# Network Visualization of Movies with shared actors\n",
    "\n",
    "# Movie Network\n",
    "movie_network = nx.MultiGraph()\n",
    "tv_show_network = nx.MultiGraph()\n",
    "movies = df.where(df['is_tv'] == False).dropna().reset_index(drop=True)\n",
    "tv_shows = df.where(df['is_tv'] == True).dropna().reset_index(drop=True)\n",
    "\n",
    "for i in tqdm(range(2000)):\n",
    "    movie_network.add_node(movies.loc[i,'title'])\n",
    "\n",
    "for i in tqdm(range(2000)):\n",
    "    for j in range(i + 1, 2000):\n",
    "        for actor in movies.loc[i, 'stars']:\n",
    "            if actor in movies.loc[j, 'stars']:\n",
    "                movie_network.add_edge(movies.loc[i, 'title'], movies.loc[j, 'title'])\n",
    "\n",
    "\n",
    "# TV Show Network\n",
    "\n",
    "for i in tqdm(range(200)):\n",
    "    tv_show_network.add_node(tv_shows.loc[i,'title'])\n",
    "\n",
    "for i in tqdm(range(200)):\n",
    "    for j in range(i + 1, 200):\n",
    "        for actor in tv_shows.loc[i, 'stars']:\n",
    "            if actor in tv_shows.loc[j, 'stars']:\n",
    "                tv_show_network.add_edge(tv_shows.loc[i, 'title'], tv_shows.loc[j, 'title'])\n",
    "nt = Network(\"500px\", \"500px\")\n",
    "nt.from_nx(movie_network)\n",
    "nt.show(\"nx.html\")\n",
    "'''\n",
    "# smaller nodes and fonts\n",
    "plt.figure(1, figsize=(15,15))\n",
    "nx.draw_random(movie_network, node_size=50, with_labels=True)\n",
    "plt.figure(2, figsize=(15,15))\n",
    "nx.draw_random(tv_show_network, node_size=50, with_labels=True) \n",
    "plt.show()\n",
    "'''"
   ]
  },
  {
   "cell_type": "code",
   "execution_count": null,
   "metadata": {},
   "outputs": [],
   "source": []
  }
 ],
 "metadata": {
  "kernelspec": {
   "display_name": "Python 3 (ipykernel)",
   "language": "python",
   "name": "python3"
  },
  "language_info": {
   "codemirror_mode": {
    "name": "ipython",
    "version": 3
   },
   "file_extension": ".py",
   "mimetype": "text/x-python",
   "name": "python",
   "nbconvert_exporter": "python",
   "pygments_lexer": "ipython3",
   "version": "3.11.7"
  }
 },
 "nbformat": 4,
 "nbformat_minor": 4
}
